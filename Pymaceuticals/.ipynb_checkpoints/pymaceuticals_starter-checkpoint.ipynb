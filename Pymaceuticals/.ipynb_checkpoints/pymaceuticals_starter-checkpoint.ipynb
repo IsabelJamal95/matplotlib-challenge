{
 "cells": [
  {
   "cell_type": "markdown",
   "metadata": {},
   "source": [
    "## Observations and Insights"
   ]
  },
  {
   "cell_type": "markdown",
   "metadata": {},
   "source": []
  },
  {
   "cell_type": "markdown",
   "metadata": {},
   "source": [
    "## Dependencies and starter code"
   ]
  },
  {
   "cell_type": "code",
   "execution_count": 1,
   "metadata": {},
   "outputs": [
    {
     "data": {
      "text/html": [
       "<div>\n",
       "<style scoped>\n",
       "    .dataframe tbody tr th:only-of-type {\n",
       "        vertical-align: middle;\n",
       "    }\n",
       "\n",
       "    .dataframe tbody tr th {\n",
       "        vertical-align: top;\n",
       "    }\n",
       "\n",
       "    .dataframe thead th {\n",
       "        text-align: right;\n",
       "    }\n",
       "</style>\n",
       "<table border=\"1\" class=\"dataframe\">\n",
       "  <thead>\n",
       "    <tr style=\"text-align: right;\">\n",
       "      <th></th>\n",
       "      <th>Mouse ID</th>\n",
       "      <th>Drug Regimen</th>\n",
       "      <th>Sex</th>\n",
       "      <th>Age_months</th>\n",
       "      <th>Weight (g)</th>\n",
       "      <th>Timepoint</th>\n",
       "      <th>Tumor Volume (mm3)</th>\n",
       "      <th>Metastatic Sites</th>\n",
       "    </tr>\n",
       "  </thead>\n",
       "  <tbody>\n",
       "    <tr>\n",
       "      <th>0</th>\n",
       "      <td>k403</td>\n",
       "      <td>Ramicane</td>\n",
       "      <td>Male</td>\n",
       "      <td>21</td>\n",
       "      <td>16</td>\n",
       "      <td>0</td>\n",
       "      <td>45.000000</td>\n",
       "      <td>0</td>\n",
       "    </tr>\n",
       "    <tr>\n",
       "      <th>1</th>\n",
       "      <td>k403</td>\n",
       "      <td>Ramicane</td>\n",
       "      <td>Male</td>\n",
       "      <td>21</td>\n",
       "      <td>16</td>\n",
       "      <td>5</td>\n",
       "      <td>38.825898</td>\n",
       "      <td>0</td>\n",
       "    </tr>\n",
       "    <tr>\n",
       "      <th>2</th>\n",
       "      <td>k403</td>\n",
       "      <td>Ramicane</td>\n",
       "      <td>Male</td>\n",
       "      <td>21</td>\n",
       "      <td>16</td>\n",
       "      <td>10</td>\n",
       "      <td>35.014271</td>\n",
       "      <td>1</td>\n",
       "    </tr>\n",
       "    <tr>\n",
       "      <th>3</th>\n",
       "      <td>k403</td>\n",
       "      <td>Ramicane</td>\n",
       "      <td>Male</td>\n",
       "      <td>21</td>\n",
       "      <td>16</td>\n",
       "      <td>15</td>\n",
       "      <td>34.223992</td>\n",
       "      <td>1</td>\n",
       "    </tr>\n",
       "    <tr>\n",
       "      <th>4</th>\n",
       "      <td>k403</td>\n",
       "      <td>Ramicane</td>\n",
       "      <td>Male</td>\n",
       "      <td>21</td>\n",
       "      <td>16</td>\n",
       "      <td>20</td>\n",
       "      <td>32.997729</td>\n",
       "      <td>1</td>\n",
       "    </tr>\n",
       "  </tbody>\n",
       "</table>\n",
       "</div>"
      ],
      "text/plain": [
       "  Mouse ID Drug Regimen   Sex  Age_months  Weight (g)  Timepoint  \\\n",
       "0     k403     Ramicane  Male          21          16          0   \n",
       "1     k403     Ramicane  Male          21          16          5   \n",
       "2     k403     Ramicane  Male          21          16         10   \n",
       "3     k403     Ramicane  Male          21          16         15   \n",
       "4     k403     Ramicane  Male          21          16         20   \n",
       "\n",
       "   Tumor Volume (mm3)  Metastatic Sites  \n",
       "0           45.000000                 0  \n",
       "1           38.825898                 0  \n",
       "2           35.014271                 1  \n",
       "3           34.223992                 1  \n",
       "4           32.997729                 1  "
      ]
     },
     "execution_count": 1,
     "metadata": {},
     "output_type": "execute_result"
    }
   ],
   "source": [
    "# Dependencies and Setup\n",
    "import matplotlib.pyplot as plt\n",
    "import pandas as pd\n",
    "import scipy.stats as st\n",
    "import numpy as np\n",
    "from scipy.stats import linregress\n",
    "\n",
    "# Study data files\n",
    "mouse_metadata = \"data/Mouse_metadata.csv\"\n",
    "study_results = \"data/Study_results.csv\"\n",
    "\n",
    "# Read the mouse data and the study results\n",
    "mouse_metadata = pd.read_csv(mouse_metadata)\n",
    "study_results = pd.read_csv(study_results)\n",
    "\n",
    "\n",
    "# Combine the data into a single dataset\n",
    "mouse_study= pd.merge(mouse_metadata, study_results, on=\"Mouse ID\")\n",
    "mouse_study.head()\n"
   ]
  },
  {
   "cell_type": "markdown",
   "metadata": {},
   "source": [
    "## Summary statistics"
   ]
  },
  {
   "cell_type": "code",
   "execution_count": 2,
   "metadata": {},
   "outputs": [
    {
     "data": {
      "text/html": [
       "<div>\n",
       "<style scoped>\n",
       "    .dataframe tbody tr th:only-of-type {\n",
       "        vertical-align: middle;\n",
       "    }\n",
       "\n",
       "    .dataframe tbody tr th {\n",
       "        vertical-align: top;\n",
       "    }\n",
       "\n",
       "    .dataframe thead th {\n",
       "        text-align: right;\n",
       "    }\n",
       "</style>\n",
       "<table border=\"1\" class=\"dataframe\">\n",
       "  <thead>\n",
       "    <tr style=\"text-align: right;\">\n",
       "      <th></th>\n",
       "      <th>mean</th>\n",
       "      <th>median</th>\n",
       "      <th>variance</th>\n",
       "      <th>standard deviation</th>\n",
       "      <th>sem</th>\n",
       "    </tr>\n",
       "    <tr>\n",
       "      <th>Drug Regimen</th>\n",
       "      <th></th>\n",
       "      <th></th>\n",
       "      <th></th>\n",
       "      <th></th>\n",
       "      <th></th>\n",
       "    </tr>\n",
       "  </thead>\n",
       "  <tbody>\n",
       "    <tr>\n",
       "      <th>Capomulin</th>\n",
       "      <td>40.675741</td>\n",
       "      <td>41.557809</td>\n",
       "      <td>24.947764</td>\n",
       "      <td>4.994774</td>\n",
       "      <td>0.329346</td>\n",
       "    </tr>\n",
       "    <tr>\n",
       "      <th>Ceftamin</th>\n",
       "      <td>52.591172</td>\n",
       "      <td>51.776157</td>\n",
       "      <td>39.290177</td>\n",
       "      <td>6.268188</td>\n",
       "      <td>0.469821</td>\n",
       "    </tr>\n",
       "    <tr>\n",
       "      <th>Infubinol</th>\n",
       "      <td>52.884795</td>\n",
       "      <td>51.820584</td>\n",
       "      <td>43.128684</td>\n",
       "      <td>6.567243</td>\n",
       "      <td>0.492236</td>\n",
       "    </tr>\n",
       "    <tr>\n",
       "      <th>Ketapril</th>\n",
       "      <td>55.235638</td>\n",
       "      <td>53.698743</td>\n",
       "      <td>68.553577</td>\n",
       "      <td>8.279709</td>\n",
       "      <td>0.603860</td>\n",
       "    </tr>\n",
       "    <tr>\n",
       "      <th>Naftisol</th>\n",
       "      <td>54.331565</td>\n",
       "      <td>52.509285</td>\n",
       "      <td>66.173479</td>\n",
       "      <td>8.134708</td>\n",
       "      <td>0.596466</td>\n",
       "    </tr>\n",
       "    <tr>\n",
       "      <th>Placebo</th>\n",
       "      <td>54.033581</td>\n",
       "      <td>52.288934</td>\n",
       "      <td>61.168083</td>\n",
       "      <td>7.821003</td>\n",
       "      <td>0.581331</td>\n",
       "    </tr>\n",
       "    <tr>\n",
       "      <th>Propriva</th>\n",
       "      <td>52.322552</td>\n",
       "      <td>50.854632</td>\n",
       "      <td>42.351070</td>\n",
       "      <td>6.507770</td>\n",
       "      <td>0.512884</td>\n",
       "    </tr>\n",
       "    <tr>\n",
       "      <th>Ramicane</th>\n",
       "      <td>40.216745</td>\n",
       "      <td>40.673236</td>\n",
       "      <td>23.486704</td>\n",
       "      <td>4.846308</td>\n",
       "      <td>0.320955</td>\n",
       "    </tr>\n",
       "    <tr>\n",
       "      <th>Stelasyn</th>\n",
       "      <td>54.233149</td>\n",
       "      <td>52.431737</td>\n",
       "      <td>59.450562</td>\n",
       "      <td>7.710419</td>\n",
       "      <td>0.573111</td>\n",
       "    </tr>\n",
       "    <tr>\n",
       "      <th>Zoniferol</th>\n",
       "      <td>53.236507</td>\n",
       "      <td>51.818479</td>\n",
       "      <td>48.533355</td>\n",
       "      <td>6.966589</td>\n",
       "      <td>0.516398</td>\n",
       "    </tr>\n",
       "  </tbody>\n",
       "</table>\n",
       "</div>"
      ],
      "text/plain": [
       "                   mean     median   variance  standard deviation       sem\n",
       "Drug Regimen                                                               \n",
       "Capomulin     40.675741  41.557809  24.947764            4.994774  0.329346\n",
       "Ceftamin      52.591172  51.776157  39.290177            6.268188  0.469821\n",
       "Infubinol     52.884795  51.820584  43.128684            6.567243  0.492236\n",
       "Ketapril      55.235638  53.698743  68.553577            8.279709  0.603860\n",
       "Naftisol      54.331565  52.509285  66.173479            8.134708  0.596466\n",
       "Placebo       54.033581  52.288934  61.168083            7.821003  0.581331\n",
       "Propriva      52.322552  50.854632  42.351070            6.507770  0.512884\n",
       "Ramicane      40.216745  40.673236  23.486704            4.846308  0.320955\n",
       "Stelasyn      54.233149  52.431737  59.450562            7.710419  0.573111\n",
       "Zoniferol     53.236507  51.818479  48.533355            6.966589  0.516398"
      ]
     },
     "execution_count": 2,
     "metadata": {},
     "output_type": "execute_result"
    }
   ],
   "source": [
    "drug_mean= mouse_study.groupby([\"Drug Regimen\"]).mean()[\"Tumor Volume (mm3)\"]\n",
    "drug_median= mouse_study.groupby([\"Drug Regimen\"]).median()[\"Tumor Volume (mm3)\"]\n",
    "drug_variance= mouse_study.groupby([\"Drug Regimen\"]).var()[\"Tumor Volume (mm3)\"]\n",
    "drug_std= mouse_study.groupby([\"Drug Regimen\"]).std()[\"Tumor Volume (mm3)\"]\n",
    "drug_sem= mouse_study.groupby([\"Drug Regimen\"]).sem()[\"Tumor Volume (mm3)\"]\n",
    "\n",
    "summary_stats_df= pd.DataFrame({\n",
    "    \"mean\":drug_mean,\n",
    "    \"median\":drug_median,\n",
    "    \"variance\":drug_variance,\n",
    "    \"standard deviation\": drug_std,\n",
    "    \"sem\": drug_sem\n",
    "})\n",
    "summary_stats_df\n"
   ]
  },
  {
   "cell_type": "markdown",
   "metadata": {},
   "source": [
    "## Bar plots"
   ]
  },
  {
   "cell_type": "code",
   "execution_count": 6,
   "metadata": {},
   "outputs": [
    {
     "data": {
      "text/plain": [
       "Text(0,0.5,'Number of Data Points')"
      ]
     },
     "execution_count": 6,
     "metadata": {},
     "output_type": "execute_result"
    },
    {
     "data": {
      "image/png": "[encoded data removed]",
      "text/plain": [
       "<Figure size 432x288 with 1 Axes>"
      ]
     },
     "metadata": {},
     "output_type": "display_data"
    }
   ],
   "source": [
    "# Generate a bar plot showing number of data points for each treatment regimen using pandas\n",
    "drug_counts= mouse_study[\"Drug Regimen\"].value_counts()\n",
    "drug_counts\n",
    "\n",
    "drug_counts.plot(kind=\"bar\", color='b')\n",
    "plt.xlabel('Drug Regimen')\n",
    "plt.ylabel(\"Number of Data Points\")\n",
    "\n"
   ]
  },
  {
   "cell_type": "code",
   "execution_count": 7,
   "metadata": {},
   "outputs": [
    {
     "data": {
      "image/png": "[encoded data removed]",
      "text/plain": [
       "<Figure size 432x288 with 1 Axes>"
      ]
     },
     "metadata": {},
     "output_type": "display_data"
    }
   ],
   "source": [
    "# Generate a bar plot showing number of data points for each treatment regimen using pyplot\n",
    "drug_counts= mouse_study[\"Drug Regimen\"].value_counts()\n",
    "drug_counts\n",
    "\n",
    "plt.bar(drug_counts.index.values, drug_counts.values)\n",
    "plt.show\n",
    "plt.xticks(rotation=90)\n",
    "plt.xlabel('Drug Regimen'),\n",
    "plt.ylabel('Number of Data Points')\n",
    "plt.show()"
   ]
  },
  {
   "cell_type": "markdown",
   "metadata": {},
   "source": [
    "## Pie plots"
   ]
  },
  {
   "cell_type": "code",
   "execution_count": 32,
   "metadata": {},
   "outputs": [
    {
     "data": {
      "text/plain": [
       "<matplotlib.axes._subplots.AxesSubplot at 0x2258eb2ea58>"
      ]
     },
     "execution_count": 32,
     "metadata": {},
     "output_type": "execute_result"
    },
    {
     "data": {
      "image/png": "[encoded data removed]",
      "text/plain": [
       "<Figure size 432x288 with 1 Axes>"
      ]
     },
     "metadata": {},
     "output_type": "display_data"
    }
   ],
   "source": [
    "# Generate a pie plot showing the distribution of female versus male mice using pandas\n",
    "gender_percentages= mouse_study[\"Sex\"].value_counts()\n",
    "gender_percentages.plot (kind=\"pie\", autopct=\"%1.1f%%\")\n",
    "\n",
    "\n",
    "\n"
   ]
  },
  {
   "cell_type": "code",
   "execution_count": 36,
   "metadata": {},
   "outputs": [
    {
     "data": {
      "text/plain": [
       "Text(0,0.5,'Sex')"
      ]
     },
     "execution_count": 36,
     "metadata": {},
     "output_type": "execute_result"
    },
    {
     "data": {
      "image/png": "[encoded data removed]",
      "text/plain": [
       "<Figure size 432x288 with 1 Axes>"
      ]
     },
     "metadata": {},
     "output_type": "display_data"
    }
   ],
   "source": [
    "# Generate a pie plot showing the distribution of female versus male mice using pyplot\n",
    "labels=[\"Male\", \"Female\"]\n",
    "\n",
    "gender_percentages= mouse_study[\"Sex\"].value_counts()\n",
    "plt.pie(gender_percentages, labels=labels, autopct=\"%1.1f%%\")\n",
    "plt.ylabel(\"Sex\")"
   ]
  },
  {
   "cell_type": "markdown",
   "metadata": {},
   "source": [
    "## Quartiles, outliers and boxplots"
   ]
  },
  {
   "cell_type": "code",
   "execution_count": 10,
   "metadata": {},
   "outputs": [
    {
     "name": "stdout",
     "output_type": "stream",
     "text": [
      "The lower quartile of tumor Volume is: 32.37735684\n",
      "The upper quartile of tumor volume is: 40.1592203\n",
      "The interquartile range of tumor volume is: 7.781863460000004\n",
      "The the median of tumor volume is: 38.125164399999996 \n",
      "Values below 20.70456164999999 could be outliers.\n",
      "Values above 51.83201549 could be outliers.\n"
     ]
    },
    {
     "data": {
      "text/plain": [
       "19     38.982878\n",
       "24     38.939633\n",
       "61     30.485985\n",
       "64     37.074024\n",
       "66     40.159220\n",
       "81     47.685963\n",
       "84     37.311846\n",
       "86     38.125164\n",
       "88     38.753265\n",
       "109    41.483008\n",
       "116    38.846876\n",
       "122    28.430964\n",
       "125    33.329098\n",
       "163    46.539206\n",
       "164    32.377357\n",
       "170    41.581521\n",
       "175    23.343598\n",
       "181    40.728578\n",
       "184    34.455298\n",
       "193    31.023923\n",
       "205    40.658124\n",
       "209    39.952347\n",
       "221    36.041047\n",
       "227    28.484033\n",
       "240    31.896238\n",
       "Name: Tumor Volume (mm3), dtype: float64"
      ]
     },
     "execution_count": 10,
     "metadata": {},
     "output_type": "execute_result"
    }
   ],
   "source": [
    "# Calculate the final tumor volume of each mouse across four of the most promising treatment regimens. Calculate the IQR and quantitatively determine if there are any potential outliers. \n",
    "max_timepoint= mouse_study.groupby([\"Mouse ID\"]).max()\n",
    "max_timepoint=max_timepoint.reset_index()\n",
    "max_timepoint\n",
    "\n",
    "new_df= max_timepoint[[\"Mouse ID\",\"Timepoint\"]].merge(mouse_study, on=[\"Mouse ID\",\"Timepoint\"], how=\"left\" )\n",
    "new_df\n",
    "\n",
    "Cap= new_df.loc[(new_df[\"Drug Regimen\"] == f'Capomulin')][\"Tumor Volume (mm3)\"]\n",
    "\n",
    "\n",
    "cap_quartiles = Cap.quantile([.25,.5,.75])\n",
    "cap_lowerq = cap_quartiles[0.25]\n",
    "cap_upperq = cap_quartiles[0.75]\n",
    "cap_iqr = cap_upperq-cap_lowerq\n",
    "print(f\"The lower quartile of tumor Volume is: {cap_lowerq}\")\n",
    "print(f\"The upper quartile of tumor volume is: {cap_upperq}\")\n",
    "print(f\"The interquartile range of tumor volume is: {cap_iqr}\")\n",
    "print(f\"The the median of tumor volume is: {cap_quartiles[0.5]} \")\n",
    "cap_lower_bound = cap_lowerq - (1.5*cap_iqr)\n",
    "cap_upper_bound = cap_upperq + (1.5*cap_iqr)\n",
    "print(f\"Values below {cap_lower_bound} could be outliers.\")\n",
    "print(f\"Values above {cap_upper_bound} could be outliers.\")\n",
    "\n",
    "\n",
    "Cap\n",
    "\n",
    "\n",
    "\n",
    "\n",
    "\n",
    "\n",
    "\n",
    "\n"
   ]
  },
  {
   "cell_type": "code",
   "execution_count": 11,
   "metadata": {},
   "outputs": [
    {
     "name": "stdout",
     "output_type": "stream",
     "text": [
      "The lower quartile of tumor Volume is: 48.72207785\n",
      "The upper quartile of tumor volume is: 64.29983003\n",
      "The interquartile range of tumor volume is: 15.577752179999997\n",
      "The the median of tumor volume is: 59.85195552 \n",
      "Values below 25.355449580000002 could be outliers.\n",
      "Values above 87.66645829999999 could be outliers.\n"
     ]
    },
    {
     "data": {
      "text/plain": [
       "3      62.999356\n",
       "21     45.000000\n",
       "22     56.057749\n",
       "25     55.742829\n",
       "58     48.722078\n",
       "76     47.784682\n",
       "89     61.849023\n",
       "95     68.923185\n",
       "107    67.748662\n",
       "108    57.918381\n",
       "110    46.784535\n",
       "111    59.851956\n",
       "114    64.299830\n",
       "135    59.741901\n",
       "151    61.433892\n",
       "155    64.192341\n",
       "185    45.000000\n",
       "189    52.925348\n",
       "190    45.000000\n",
       "210    67.527482\n",
       "224    45.000000\n",
       "229    64.634949\n",
       "232    61.386660\n",
       "239    68.594745\n",
       "241    64.729837\n",
       "Name: Tumor Volume (mm3), dtype: float64"
      ]
     },
     "execution_count": 11,
     "metadata": {},
     "output_type": "execute_result"
    }
   ],
   "source": [
    "\n",
    "Ceft= new_df.loc[(new_df[\"Drug Regimen\"] == f'Ceftamin')][\"Tumor Volume (mm3)\"]\n",
    "Ceft_quartiles = Ceft.quantile([.25,.5,.75])\n",
    "Ceft_lowerq = Ceft_quartiles[0.25]\n",
    "Ceft_upperq = Ceft_quartiles[0.75]\n",
    "Ceft_iqr = Ceft_upperq-Ceft_lowerq\n",
    "print(f\"The lower quartile of tumor Volume is: {Ceft_lowerq}\")\n",
    "print(f\"The upper quartile of tumor volume is: {Ceft_upperq}\")\n",
    "print(f\"The interquartile range of tumor volume is: {Ceft_iqr}\")\n",
    "print(f\"The the median of tumor volume is: {Ceft_quartiles[0.5]} \")\n",
    "Ceft_lower_bound = Ceft_lowerq - (1.5*Ceft_iqr)\n",
    "Ceft_upper_bound = Ceft_upperq + (1.5*Ceft_iqr)\n",
    "print(f\"Values below {Ceft_lower_bound} could be outliers.\")\n",
    "print(f\"Values above {Ceft_upper_bound} could be outliers.\")\n",
    "Ceft\n",
    "\n",
    "# Ceftamin_df=pd.DataFrame({\n",
    "#     \"Tumor Volume (mm3)\": Tumor_volume\n",
    "# })"
   ]
  },
  {
   "cell_type": "code",
   "execution_count": 12,
   "metadata": {},
   "outputs": [
    {
     "name": "stdout",
     "output_type": "stream",
     "text": [
      "The lower quartile of tumor Volume is: 54.04860769\n",
      "The upper quartile of tumor volume is: 65.52574285\n",
      "The interquartile range of tumor volume is: 11.477135160000003\n",
      "The the median of tumor volume is: 60.16518046 \n",
      "Values below 36.83290494999999 could be outliers.\n",
      "Values above 82.74144559000001 could be outliers.\n"
     ]
    },
    {
     "data": {
      "text/plain": [
       "0      67.973419\n",
       "1      65.525743\n",
       "11     57.031862\n",
       "13     66.083066\n",
       "27     72.226731\n",
       "31     36.321346\n",
       "41     60.969711\n",
       "50     62.435404\n",
       "56     60.918767\n",
       "79     67.289621\n",
       "98     66.196912\n",
       "102    62.117279\n",
       "124    47.010364\n",
       "130    60.165180\n",
       "142    55.629428\n",
       "143    45.699331\n",
       "154    54.656549\n",
       "171    55.650681\n",
       "198    46.250112\n",
       "201    54.048608\n",
       "203    51.542431\n",
       "212    50.005138\n",
       "217    58.268442\n",
       "234    67.685569\n",
       "246    62.754451\n",
       "Name: Tumor Volume (mm3), dtype: float64"
      ]
     },
     "execution_count": 12,
     "metadata": {},
     "output_type": "execute_result"
    }
   ],
   "source": [
    "infubinol= new_df.loc[(new_df[\"Drug Regimen\"] == f'Infubinol')][\"Tumor Volume (mm3)\"]\n",
    "infubinol_quartiles = infubinol.quantile([.25,.5,.75])\n",
    "infubinol_lowerq = infubinol_quartiles[0.25]\n",
    "infubinol_upperq = infubinol_quartiles[0.75]\n",
    "infubinol_iqr = infubinol_upperq-infubinol_lowerq\n",
    "print(f\"The lower quartile of tumor Volume is: {infubinol_lowerq}\")\n",
    "print(f\"The upper quartile of tumor volume is: {infubinol_upperq}\")\n",
    "print(f\"The interquartile range of tumor volume is: {infubinol_iqr}\")\n",
    "print(f\"The the median of tumor volume is: {infubinol_quartiles[0.5]} \")\n",
    "infubinol_lower_bound = infubinol_lowerq - (1.5*infubinol_iqr)\n",
    "infubinol_upper_bound = infubinol_upperq + (1.5*infubinol_iqr)\n",
    "print(f\"Values below {infubinol_lower_bound} could be outliers.\")\n",
    "print(f\"Values above {infubinol_upper_bound} could be outliers.\")\n",
    "infubinol"
   ]
  },
  {
   "cell_type": "code",
   "execution_count": 13,
   "metadata": {},
   "outputs": [
    {
     "name": "stdout",
     "output_type": "stream",
     "text": [
      "The lower quartile of tumor Volume is: 31.56046955\n",
      "The upper quartile of tumor volume is: 40.65900627\n",
      "The interquartile range of tumor volume is: 9.098536719999998\n",
      "The the median of tumor volume is: 36.56165229 \n",
      "Values below 17.912664470000003 could be outliers.\n",
      "Values above 54.30681135 could be outliers.\n"
     ]
    },
    {
     "data": {
      "text/plain": [
       "6      38.407618\n",
       "7      43.047543\n",
       "10     38.810366\n",
       "12     32.978522\n",
       "33     38.342008\n",
       "37     33.397653\n",
       "45     37.311236\n",
       "52     40.659006\n",
       "70     29.128472\n",
       "77     33.562402\n",
       "78     36.374510\n",
       "92     31.560470\n",
       "94     36.134852\n",
       "97     22.050126\n",
       "120    30.564625\n",
       "127    31.095335\n",
       "158    45.220869\n",
       "159    36.561652\n",
       "167    37.225650\n",
       "169    43.419381\n",
       "178    30.276232\n",
       "191    40.667713\n",
       "218    43.166373\n",
       "236    44.183451\n",
       "245    30.638696\n",
       "Name: Tumor Volume (mm3), dtype: float64"
      ]
     },
     "execution_count": 13,
     "metadata": {},
     "output_type": "execute_result"
    }
   ],
   "source": [
    "ramicane= new_df.loc[(new_df[\"Drug Regimen\"] == f'Ramicane')][\"Tumor Volume (mm3)\"]\n",
    "ramicane_quartiles = ramicane.quantile([.25,.5,.75])\n",
    "ramicane_lowerq = ramicane_quartiles[0.25]\n",
    "ramicane_upperq = ramicane_quartiles[0.75]\n",
    "ramicane_iqr = ramicane_upperq-ramicane_lowerq\n",
    "print(f\"The lower quartile of tumor Volume is: {ramicane_lowerq}\")\n",
    "print(f\"The upper quartile of tumor volume is: {ramicane_upperq}\")\n",
    "print(f\"The interquartile range of tumor volume is: {ramicane_iqr}\")\n",
    "print(f\"The the median of tumor volume is: {ramicane_quartiles[0.5]} \")\n",
    "ramicane_lower_bound = ramicane_lowerq - (1.5*ramicane_iqr)\n",
    "ramicane_upper_bound = ramicane_upperq + (1.5*ramicane_iqr)\n",
    "print(f\"Values below {ramicane_lower_bound} could be outliers.\")\n",
    "print(f\"Values above {ramicane_upper_bound} could be outliers.\")\n",
    "ramicane"
   ]
  },
  {
   "cell_type": "code",
   "execution_count": null,
   "metadata": {},
   "outputs": [],
   "source": []
  },
  {
   "cell_type": "code",
   "execution_count": 16,
   "metadata": {},
   "outputs": [
    {
     "data": {
      "text/plain": [
       "Text(0,0.5,'Final Tumor Volume (mm3)')"
      ]
     },
     "execution_count": 16,
     "metadata": {},
     "output_type": "execute_result"
    },
    {
     "data": {
      "image/png": "[encoded data removed]",
      "text/plain": [
       "<Figure size 432x288 with 1 Axes>"
      ]
     },
     "metadata": {},
     "output_type": "display_data"
    }
   ],
   "source": [
    "# Generate a box plot of the final tumor volume of each mouse across four regimens of interest\n",
    "plt.boxplot([ramicane, infubinol, Ceft, Cap], labels=[\"ramicane\", \"infubinol\", \"ceftamin\", \"capomulin\"])\n",
    "\n",
    "plt.ylabel('Final Tumor Volume (mm3)')\n",
    "\n"
   ]
  },
  {
   "cell_type": "code",
   "execution_count": null,
   "metadata": {},
   "outputs": [],
   "source": []
  },
  {
   "cell_type": "markdown",
   "metadata": {},
   "source": [
    "## Line and scatter plots"
   ]
  },
  {
   "cell_type": "code",
   "execution_count": 17,
   "metadata": {},
   "outputs": [
    {
     "data": {
      "text/plain": [
       "Text(0,0.5,'Tumor Volume (mm3)')"
      ]
     },
     "execution_count": 17,
     "metadata": {},
     "output_type": "execute_result"
    },
    {
     "data": {
      "image/png": "[encoded data removed]",
      "text/plain": [
       "<Figure size 432x288 with 1 Axes>"
      ]
     },
     "metadata": {},
     "output_type": "display_data"
    }
   ],
   "source": [
    "# Generate a line plot of time point versus tumor volume for a mouse treated with Capomulin\n",
    "Cap_line= mouse_study.loc[(mouse_study[\"Drug Regimen\"] == f'Capomulin')]\n",
    "Cap_line\n",
    "\n",
    "s185= Cap_line.loc[(Cap_line[\"Mouse ID\"] == f's185')]\n",
    "s185\n",
    "\n",
    "plt.plot(s185[\"Timepoint\"], s185[\"Tumor Volume (mm3)\"])\n",
    "\n",
    "plt.xlabel(\"Timepoint\")\n",
    "plt.ylabel(\"Tumor Volume (mm3)\")"
   ]
  },
  {
   "cell_type": "code",
   "execution_count": 26,
   "metadata": {},
   "outputs": [
    {
     "data": {
      "image/png": "[encoded data removed]",
      "text/plain": [
       "<Figure size 432x288 with 1 Axes>"
      ]
     },
     "metadata": {},
     "output_type": "display_data"
    }
   ],
   "source": [
    "# Generate a scatter plot of mouse weight versus average tumor volume for the Capomulin regimen\n",
    "Cap_line= mouse_study.loc[(mouse_study[\"Drug Regimen\"] == f'Capomulin')]\n",
    "Cap_line\n",
    "\n",
    "Cap_avg= Cap_line.groupby(\"Mouse ID\").mean()\n",
    "Cap_avg\n",
    "\n",
    "x_values = Cap_avg[\"Weight (g)\"]\n",
    "y_values = Cap_avg[\"Tumor Volume (mm3)\"]\n",
    "\n",
    "plt.scatter(x_values, y_values)\n",
    "plt.xlabel(\"Mouse Weight (g)\")\n",
    "plt.ylabel(\"Average Tumor Volume (mm3)\")\n",
    "plt.show()"
   ]
  },
  {
   "cell_type": "code",
   "execution_count": 25,
   "metadata": {},
   "outputs": [
    {
     "name": "stdout",
     "output_type": "stream",
     "text": [
      "The correlation between both factors is 0.84\n"
     ]
    },
    {
     "data": {
      "text/plain": [
       "Text(0,0.5,'Average Tumor Volume (mm3)')"
      ]
     },
     "execution_count": 25,
     "metadata": {},
     "output_type": "execute_result"
    },
    {
     "data": {
      "image/png": "[encoded data removed]",
      "text/plain": [
       "<Figure size 432x288 with 1 Axes>"
      ]
     },
     "metadata": {},
     "output_type": "display_data"
    }
   ],
   "source": [
    "# Calculate the correlation coefficient and linear regression model for mouse weight and average tumor volume for the Capomulin regimen\n",
    "# plt.scatter\n",
    "correlation = st.pearsonr(Cap_avg[\"Weight (g)\"], Cap_avg[\"Tumor Volume (mm3)\"])\n",
    "print(f\"The correlation between both factors is {round(correlation[0],2)}\")\n",
    "\n",
    "\n",
    "(slope, intercept, rvalue, pvalue, stderr) = linregress(x_values, y_values)\n",
    "regress_values = x_values * slope + intercept\n",
    "line_eq = \"y = \" + str(round(slope,2)) + \"x + \" + str(round(intercept,2))\n",
    "plt.scatter(x_values,y_values)\n",
    "plt.plot(x_values,regress_values,\"r-\")\n",
    "\n",
    "plt.xlabel(\"Mouse Weight (g)\")\n",
    "plt.ylabel(\"Average Tumor Volume (mm3)\")\n"
   ]
  },
  {
   "cell_type": "code",
   "execution_count": null,
   "metadata": {},
   "outputs": [],
   "source": []
  }
 ],
 "metadata": {
  "anaconda-cloud": {},
  "kernelspec": {
   "display_name": "Python 3",
   "language": "python",
   "name": "python3"
  },
  "language_info": {
   "codemirror_mode": {
    "name": "ipython",
    "version": 3
   },
   "file_extension": ".py",
   "mimetype": "text/x-python",
   "name": "python",
   "nbconvert_exporter": "python",
   "pygments_lexer": "ipython3",
   "version": "3.6.5"
  }
 },
 "nbformat": 4,
 "nbformat_minor": 2
}
